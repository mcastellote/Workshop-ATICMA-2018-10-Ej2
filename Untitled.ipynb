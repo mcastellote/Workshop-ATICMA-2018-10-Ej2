{
 "cells": [
  {
   "cell_type": "markdown",
   "metadata": {},
   "source": [
    "# Introducción al Machine Learning con Python"
   ]
  },
  {
   "cell_type": "markdown",
   "metadata": {},
   "source": [
    "## Ejercicio: NMIST Dataset"
   ]
  },
  {
   "cell_type": "markdown",
   "metadata": {},
   "source": [
    "En este ejemplo vamos a utilizar un dataset de imágenes digitalizadas para entrenar una red neuronal de tipo convolucional con el propósito de poder predecir que dígito representa cada imagen"
   ]
  },
  {
   "cell_type": "markdown",
   "metadata": {},
   "source": [
    "### Preparación del entorno y datos"
   ]
  },
  {
   "cell_type": "markdown",
   "metadata": {},
   "source": [
    "Vamos a precisar importar tanto las capas y el modelo de keras como el dataset del mnist\n",
    "Adicionalmente vamos a necesitar de los arreglos de numpy para manejar los datos y matplotlib para graficar y mostrar imágenes"
   ]
  },
  {
   "cell_type": "code",
   "execution_count": 16,
   "metadata": {},
   "outputs": [],
   "source": [
    "from keras.datasets import mnist\n",
    "from keras import layers, models\n",
    "from keras.utils import to_categorical\n",
    "from keras.models import Sequential\n",
    "from keras.layers import Dense\n",
    "from keras.layers import Convolution2D as Conv2D\n",
    "from keras.layers import MaxPooling2D\n",
    "from keras.layers import Flatten\n",
    "import numpy as np\n",
    "import matplotlib.pyplot as plt"
   ]
  },
  {
   "cell_type": "markdown",
   "metadata": {},
   "source": [
    "El dataset MNIST es una base de datos de imágenes de dígitos escritos a mano normalizados y centrados. Cuenta con un conjunto de 60000 imágenes para el dataset de entrenamiento y 10000 para el dataset de prueba"
   ]
  },
  {
   "cell_type": "code",
   "execution_count": 56,
   "metadata": {},
   "outputs": [],
   "source": [
    "(keras_train_images, keras_train_labels), (test_images, test_labels) = mnist.load_data()"
   ]
  },
  {
   "cell_type": "markdown",
   "metadata": {},
   "source": [
    "La importación de datos la realizamos de forma similar al ejercicio anterior pero en este caso, ya que vamos a trabajar con imágenes, los datos de entrada deben de ser preparados de forma distina."
   ]
  },
  {
   "cell_type": "markdown",
   "metadata": {},
   "source": [
    "A continuación partiremos el conjunto de entrenamiento para contar también con un conjunto de validación\n",
    "Notese que vamos a quedarnos únicamente con 500 imágenes de entrenamiento y 150 imágenes de validación por propósitos didácticos. Más adelante usaremos un conjunto más completo"
   ]
  },
  {
   "cell_type": "code",
   "execution_count": 57,
   "metadata": {},
   "outputs": [],
   "source": [
    "train_images = keras_train_images[0:500,]\n",
    "train_labels = keras_train_labels[0:500]\n",
    "validation_images = keras_train_images[500:650,]\n",
    "validation_labels = keras_train_labels[500:650]"
   ]
  },
  {
   "cell_type": "code",
   "execution_count": 58,
   "metadata": {},
   "outputs": [],
   "source": [
    "train_images = train_images.reshape((500,28,28,1))\n",
    "train_images = train_images.astype('float32') / 255"
   ]
  },
  {
   "cell_type": "markdown",
   "metadata": {},
   "source": [
    "La función reshape nos permite redimensionar arreglos de numpy sin alterar sus datos. En este caso lo llevamos a un formato en el que tenemos: \n",
    "- 500 imágenes\n",
    "- Cada una de 28 pixeles de alto\n",
    "- 28 píxeles de ancho\n",
    "- 1 canal (ya que las imágenes fueron transformadas a blanco y negro, en caso de color tendríamos 3 canales)\n",
    "Ya que las redes neuronales convolucionales se desempleñan mucho mejor con valores que van desde 0 a 1 y, en nuestro ejemplo, cada pixel se representa con valores entre 0 y 255, transformamos los datos al tipo flotante para poder dividirlos por 255 y obtener el formato deseado\n",
    "Lo mismo se aplica al conjunto de datos de validación y prueba"
   ]
  },
  {
   "cell_type": "code",
   "execution_count": 59,
   "metadata": {},
   "outputs": [],
   "source": [
    "validation_images = validation_images.reshape((150,28,28,1))\n",
    "validation_images = validation_images.astype('float32') / 255\n",
    "test_images = test_images.reshape((10000,28,28,1))\n",
    "test_images = test_images.astype('float32') / 255"
   ]
  },
  {
   "cell_type": "markdown",
   "metadata": {},
   "source": [
    "Las etiquetas en este caso van a ser valores que van desde 0 a 9 para poder representar los dígitos escritos a mano\n",
    "\n",
    "Ya que en el ejercicio anterior aprendimos con las funciones vectorize_sequences y to_one_hot como es el funcionamiento de keras.utils.to_categorical, vamos directamente a utilizar esta última función para el preparado de las mismas"
   ]
  },
  {
   "cell_type": "code",
   "execution_count": 60,
   "metadata": {},
   "outputs": [],
   "source": [
    "train_labels = to_categorical(train_labels)\n",
    "validation_labels = to_categorical(validation_labels)\n",
    "test_labels = to_categorical(test_labels)"
   ]
  },
  {
   "cell_type": "markdown",
   "metadata": {},
   "source": [
    "### Definición del modelo "
   ]
  },
  {
   "cell_type": "markdown",
   "metadata": {},
   "source": [
    "Creamos un modelo secuencial con capas convolutivas para procesar imágenes"
   ]
  },
  {
   "cell_type": "code",
   "execution_count": 61,
   "metadata": {},
   "outputs": [],
   "source": [
    "def get_model():\n",
    "    model = Sequential()\n",
    "    model.add(Conv2D(60, (5, 5), input_shape=(28, 28, 1), activation='relu'))\n",
    "    model.add(MaxPooling2D(pool_size=(2, 2)))\n",
    "    model.add(Conv2D(30, (5, 5), input_shape=(28, 28, 1), activation='relu'))\n",
    "    model.add(MaxPooling2D(pool_size=(2, 2)))\n",
    "    model.add(Conv2D(15, (3, 3), activation='relu'))\n",
    "    model.add(MaxPooling2D(pool_size=(2, 2)))\n",
    "    model.add(Flatten())\n",
    "    model.add(Dense(128, activation='relu'))\n",
    "    model.add(Dense(50, activation='relu'))\n",
    "    model.add(Dense(10, activation='softmax'))\n",
    "    model.compile(loss='categorical_crossentropy', optimizer='adam', metrics=['accuracy'])\n",
    "    return model"
   ]
  },
  {
   "cell_type": "markdown",
   "metadata": {},
   "source": [
    "Veamos en detalle las acciones y decisiones que se tomaron para este modelo inicial:\n",
    "- En este caso no aplicamos capas Dense (completamente conectadas) al principio de la red sino que comenzamos un una capa especial para procesar imágenes en 2D con operaciones convolutivas la cual:\n",
    "    - Está compuesta por 60 neuronas\n",
    "    - Cada neurona realiza operacioes convolutivas con un kernel (ventana deslizante) de dimensión 5 x 5\n",
    "    - Cada entrada a la neurona es una imágnes de 1 canal, y de deimensión 28 x 28\n",
    "    - Utiliza la función de activación ReLu\n",
    "- Ya que a la salida esperamos tener pocas neuronas (1 por etiqueta), a medida que vamos avanzando en el modelo la idea es ir reduciendo la red, para eso existe MaxPooling2D, que va calculando máximos con un kernel y reduce la dimensión de las imágenes a la mitad\n",
    "- La capa de tipo Flatten convierte las estructuras multidimensionales en un arreglo de una dimensión\n",
    "- Ahora sí es útil aplicar capas de tipo Dense para que obtengan información de cada neurona y reduzcan su número hasta la cantidad de clases (número de etiquetas)\n",
    "    - Como queremos asignar categorías, en la última capa utilizamos la función de activación softmax que nos asignará el valor de pertenencia de cada neurona de entrada a la capa a cada una de las posibles etiquetas de salida\n",
    "    \n",
    "Ahora entrenamos el modelo y guardamos la información del entrenamiento en el objeto history"
   ]
  },
  {
   "cell_type": "code",
   "execution_count": 62,
   "metadata": {},
   "outputs": [
    {
     "name": "stdout",
     "output_type": "stream",
     "text": [
      "Train on 500 samples, validate on 150 samples\n",
      "Epoch 1/25\n",
      "500/500 [==============================] - 2s 4ms/step - loss: 2.2933 - acc: 0.0900 - val_loss: 2.2723 - val_acc: 0.0867\n",
      "Epoch 2/25\n",
      "500/500 [==============================] - 1s 3ms/step - loss: 2.1545 - acc: 0.1260 - val_loss: 2.0416 - val_acc: 0.3533\n",
      "Epoch 3/25\n",
      "500/500 [==============================] - 1s 3ms/step - loss: 1.6286 - acc: 0.5020 - val_loss: 1.4190 - val_acc: 0.5133\n",
      "Epoch 4/25\n",
      "500/500 [==============================] - 1s 3ms/step - loss: 0.9307 - acc: 0.7420 - val_loss: 1.2173 - val_acc: 0.6133\n",
      "Epoch 5/25\n",
      "500/500 [==============================] - 2s 3ms/step - loss: 0.6512 - acc: 0.7920 - val_loss: 0.7975 - val_acc: 0.7400\n",
      "Epoch 6/25\n",
      "500/500 [==============================] - 1s 3ms/step - loss: 0.5066 - acc: 0.8420 - val_loss: 0.8824 - val_acc: 0.7200\n",
      "Epoch 7/25\n",
      "500/500 [==============================] - 1s 3ms/step - loss: 0.4331 - acc: 0.8580 - val_loss: 0.7264 - val_acc: 0.7867\n",
      "Epoch 8/25\n",
      "500/500 [==============================] - 2s 3ms/step - loss: 0.3597 - acc: 0.8700 - val_loss: 0.7862 - val_acc: 0.7533\n",
      "Epoch 9/25\n",
      "500/500 [==============================] - 2s 3ms/step - loss: 0.3078 - acc: 0.9140 - val_loss: 0.9123 - val_acc: 0.7267\n",
      "Epoch 10/25\n",
      "500/500 [==============================] - 1s 3ms/step - loss: 0.2828 - acc: 0.9080 - val_loss: 0.6225 - val_acc: 0.8133\n",
      "Epoch 11/25\n",
      "500/500 [==============================] - 1s 3ms/step - loss: 0.2022 - acc: 0.9320 - val_loss: 0.6376 - val_acc: 0.8133\n",
      "Epoch 12/25\n",
      "500/500 [==============================] - 1s 3ms/step - loss: 0.1718 - acc: 0.9420 - val_loss: 0.6508 - val_acc: 0.8333\n",
      "Epoch 13/25\n",
      "500/500 [==============================] - 1s 3ms/step - loss: 0.1519 - acc: 0.9560 - val_loss: 0.6007 - val_acc: 0.8400\n",
      "Epoch 14/25\n",
      "500/500 [==============================] - 1s 3ms/step - loss: 0.1242 - acc: 0.9600 - val_loss: 0.5870 - val_acc: 0.8067\n",
      "Epoch 15/25\n",
      "500/500 [==============================] - 1s 3ms/step - loss: 0.0892 - acc: 0.9740 - val_loss: 0.7095 - val_acc: 0.8133\n",
      "Epoch 16/25\n",
      "500/500 [==============================] - 1s 3ms/step - loss: 0.0867 - acc: 0.9820 - val_loss: 0.6429 - val_acc: 0.8133\n",
      "Epoch 17/25\n",
      "500/500 [==============================] - 1s 3ms/step - loss: 0.1030 - acc: 0.9680 - val_loss: 0.7348 - val_acc: 0.7667\n",
      "Epoch 18/25\n",
      "500/500 [==============================] - 2s 3ms/step - loss: 0.0794 - acc: 0.9760 - val_loss: 0.5447 - val_acc: 0.8400\n",
      "Epoch 19/25\n",
      "500/500 [==============================] - 2s 3ms/step - loss: 0.0714 - acc: 0.9780 - val_loss: 0.5687 - val_acc: 0.8533\n",
      "Epoch 20/25\n",
      "500/500 [==============================] - 2s 3ms/step - loss: 0.0508 - acc: 0.9900 - val_loss: 0.6099 - val_acc: 0.8333\n",
      "Epoch 21/25\n",
      "500/500 [==============================] - 1s 3ms/step - loss: 0.0398 - acc: 0.9880 - val_loss: 0.5752 - val_acc: 0.8400\n",
      "Epoch 22/25\n",
      "500/500 [==============================] - 1s 3ms/step - loss: 0.0316 - acc: 0.9960 - val_loss: 0.5828 - val_acc: 0.8600\n",
      "Epoch 23/25\n",
      "500/500 [==============================] - 2s 3ms/step - loss: 0.0178 - acc: 0.9980 - val_loss: 0.5628 - val_acc: 0.8600\n",
      "Epoch 24/25\n",
      "500/500 [==============================] - 1s 3ms/step - loss: 0.0149 - acc: 0.9980 - val_loss: 0.5853 - val_acc: 0.8667\n",
      "Epoch 25/25\n",
      "500/500 [==============================] - 2s 3ms/step - loss: 0.0106 - acc: 1.0000 - val_loss: 0.5969 - val_acc: 0.8667\n"
     ]
    }
   ],
   "source": [
    "model = get_model()\n",
    "history = model.fit(\n",
    "    train_images,\n",
    "    train_labels,\n",
    "    epochs=25,\n",
    "    validation_data=(validation_images, validation_labels),\n",
    ")"
   ]
  },
  {
   "cell_type": "markdown",
   "metadata": {},
   "source": [
    "### Evaluación del modelo"
   ]
  },
  {
   "cell_type": "markdown",
   "metadata": {},
   "source": [
    "Definimos una función que nos permita graficar los parámetros del entrenamiento"
   ]
  },
  {
   "cell_type": "code",
   "execution_count": 63,
   "metadata": {},
   "outputs": [],
   "source": [
    "def draw_history(history):\n",
    "    h = history.history\n",
    "    epochs = range(1, len(h[\"loss\"]) + 1)\n",
    "    plt.figure(1, figsize=(16, 16))\n",
    "    plt.clf()\n",
    "    # primer gráfico\n",
    "    plt.subplot(221)\n",
    "    plt.plot(epochs, h[\"loss\"], \"bo\", label=\"Error del entrenamiento\")\n",
    "    plt.plot(epochs, h[\"val_loss\"], \"b\", label=\"Error de validación\")\n",
    "    plt.xlabel(\"Épocas\")\n",
    "    plt.ylabel(\"Error\")\n",
    "    plt.legend()\n",
    "    # segundo gráfico\n",
    "    plt.subplot(222)\n",
    "    plt.plot(epochs, h[\"acc\"], \"bo\", label=\"Precisión del entrenamiento\")\n",
    "    plt.plot(epochs, h[\"val_acc\"], \"b\", label=\"Precisión de validación\")\n",
    "    plt.xlabel(\"Épocas\")\n",
    "    plt.ylabel(\"Preicisión\")\n",
    "    plt.legend()\n",
    "    # ahora mostramos todo junto\n",
    "    plt.show()"
   ]
  },
  {
   "cell_type": "markdown",
   "metadata": {},
   "source": [
    "Graficamos el entrenamiento"
   ]
  },
  {
   "cell_type": "code",
   "execution_count": 64,
   "metadata": {
    "scrolled": false
   },
   "outputs": [
    {
     "data": {
      "image/png": "[encoded data removed]",
      "text/plain": [
       "<Figure size 1152x1152 with 2 Axes>"
      ]
     },
     "metadata": {},
     "output_type": "display_data"
    }
   ],
   "source": [
    "draw_history(history)"
   ]
  },
  {
   "cell_type": "markdown",
   "metadata": {},
   "source": [
    "Lo primero que observamos aquí es que las curvas de entrenamiento y validación, tanto para el error como la precisión de entrenamiento, comienzan a separarse entre las épocas 4 y 5 \n",
    "\n",
    "Lo que esto significa es que se está produciendo overfitting o sobreajuste a partir de este momento. La consecuencia de esto es que nuestro modelo perderá generalización, habrá aprendido tanto como predecir con éxito las imágenes de entrenamiento que no será lo suficientemente flexible para adaptarse a un conjunto nuevo"
   ]
  },
  {
   "cell_type": "markdown",
   "metadata": {},
   "source": [
    "Veamos ahora como se comporta nuestro modelo con predicciones sobre el conjunto de imágenes de prueba"
   ]
  },
  {
   "cell_type": "code",
   "execution_count": 14,
   "metadata": {},
   "outputs": [
    {
     "name": "stdout",
     "output_type": "stream",
     "text": [
      "CNN Error: 9.62%\n"
     ]
    }
   ],
   "source": [
    "scores = model.evaluate(test_images, test_labels, verbose=0)\n",
    "print(\"CNN Error: %.2f%%\" % (100-scores[1]*100))"
   ]
  },
  {
   "cell_type": "markdown",
   "metadata": {},
   "source": [
    "Vemos que hay cerca de un 10% de imágenes que no fueron predichas correctamente. Sabemos que no va a servir agregar más épocas para que el modelo siga aprendiendo de nuestros datos por el overfitting.\n",
    "\n",
    "De todas formas vamos a hacer algunas pruebas viendo como se comporta con imágenes del conjunto de prueba"
   ]
  },
  {
   "cell_type": "code",
   "execution_count": 67,
   "metadata": {},
   "outputs": [],
   "source": [
    "def predictImage(img):\n",
    "    pixels = img.reshape((28, 28))\n",
    "    plt.imshow(pixels, cmap='gray')\n",
    "    plt.show()\n",
    "    \n",
    "    img = img.reshape((1,28,28,1))\n",
    "    pred =model.predict_classes(img)\n",
    "    print(\"Valor predicho: \"+str(pred[0]))"
   ]
  },
  {
   "cell_type": "markdown",
   "metadata": {},
   "source": [
    "Probemos con predictImage(test_images[1]) al predictImage(test_images[7]) para que nos muestre las imágenes y predicciones"
   ]
  },
  {
   "cell_type": "code",
   "execution_count": 72,
   "metadata": {},
   "outputs": [
    {
     "data": {
      "image/png": "[encoded data removed]",
      "text/plain": [
       "<Figure size 432x288 with 1 Axes>"
      ]
     },
     "metadata": {},
     "output_type": "display_data"
    },
    {
     "name": "stdout",
     "output_type": "stream",
     "text": [
      "Valor predicho: 9\n"
     ]
    }
   ],
   "source": [
    "predictImage(test_images[1])"
   ]
  },
  {
   "cell_type": "markdown",
   "metadata": {},
   "source": [
    "Como vemos, a pesar de que el porcentaje de error se acerca al 10%, la mayoría de los dígitos son predichos con éxito. Un caso en el que fallará es el la imagen número 8. \n",
    "Esta imagen debería predecirse como un 5 o un 6 pero se encuentra muy deformada. Motivo por el cual se requerirá de más imágenes de entrenamiento para poder acertar."
   ]
  },
  {
   "cell_type": "markdown",
   "metadata": {},
   "source": [
    "Para esto vamos a quedarnos con 10000 imágenes para entrenamiento y 5000 para validación. "
   ]
  },
  {
   "cell_type": "code",
   "execution_count": 86,
   "metadata": {},
   "outputs": [],
   "source": [
    "train_images = keras_train_images[0:10000,]\n",
    "train_labels = keras_train_labels[0:10000]\n",
    "validation_images = keras_train_images[10000:15000,]\n",
    "validation_labels = keras_train_labels[10000:15000]"
   ]
  },
  {
   "cell_type": "code",
   "execution_count": 87,
   "metadata": {},
   "outputs": [],
   "source": [
    "train_images = train_images.reshape((10000,28,28,1))\n",
    "train_images = train_images.astype('float32') / 255\n",
    "validation_images = validation_images.reshape((5000,28,28,1))\n",
    "validation_images = validation_images.astype('float32') / 255"
   ]
  },
  {
   "cell_type": "code",
   "execution_count": 88,
   "metadata": {},
   "outputs": [],
   "source": [
    "train_labels = to_categorical(train_labels)\n",
    "validation_labels = to_categorical(validation_labels)"
   ]
  },
  {
   "cell_type": "code",
   "execution_count": 89,
   "metadata": {},
   "outputs": [
    {
     "name": "stdout",
     "output_type": "stream",
     "text": [
      "Train on 10000 samples, validate on 5000 samples\n",
      "Epoch 1/10\n",
      "10000/10000 [==============================] - 30s 3ms/step - loss: 0.6609 - acc: 0.7857 - val_loss: 0.3102 - val_acc: 0.9006\n",
      "Epoch 2/10\n",
      "10000/10000 [==============================] - 29s 3ms/step - loss: 0.2069 - acc: 0.9388 - val_loss: 0.2033 - val_acc: 0.9378\n",
      "Epoch 3/10\n",
      "10000/10000 [==============================] - 29s 3ms/step - loss: 0.1243 - acc: 0.9621 - val_loss: 0.1295 - val_acc: 0.9602\n",
      "Epoch 4/10\n",
      "10000/10000 [==============================] - 29s 3ms/step - loss: 0.1025 - acc: 0.9692 - val_loss: 0.1551 - val_acc: 0.9534\n",
      "Epoch 5/10\n",
      "10000/10000 [==============================] - 30s 3ms/step - loss: 0.0757 - acc: 0.9767 - val_loss: 0.1161 - val_acc: 0.9652\n",
      "Epoch 6/10\n",
      "10000/10000 [==============================] - 29s 3ms/step - loss: 0.0606 - acc: 0.9816 - val_loss: 0.1064 - val_acc: 0.9700\n",
      "Epoch 7/10\n",
      "10000/10000 [==============================] - 29s 3ms/step - loss: 0.0537 - acc: 0.9823 - val_loss: 0.1171 - val_acc: 0.9648\n",
      "Epoch 8/10\n",
      "10000/10000 [==============================] - 29s 3ms/step - loss: 0.0480 - acc: 0.9852 - val_loss: 0.1733 - val_acc: 0.9526\n",
      "Epoch 9/10\n",
      "10000/10000 [==============================] - 29s 3ms/step - loss: 0.0417 - acc: 0.9867 - val_loss: 0.1259 - val_acc: 0.9668\n",
      "Epoch 10/10\n",
      "10000/10000 [==============================] - 30s 3ms/step - loss: 0.0305 - acc: 0.9887 - val_loss: 0.1382 - val_acc: 0.9618\n"
     ]
    }
   ],
   "source": [
    "model = get_model()\n",
    "history = model.fit(\n",
    "    train_images,\n",
    "    train_labels,\n",
    "    epochs=25,\n",
    "    validation_data=(validation_images, validation_labels),\n",
    ")"
   ]
  },
  {
   "cell_type": "code",
   "execution_count": 90,
   "metadata": {},
   "outputs": [
    {
     "data": {
      "image/png": "[encoded data removed]",
      "text/plain": [
       "<Figure size 1152x1152 with 2 Axes>"
      ]
     },
     "metadata": {},
     "output_type": "display_data"
    }
   ],
   "source": [
    "draw_history(history)"
   ]
  },
  {
   "cell_type": "code",
   "execution_count": 91,
   "metadata": {},
   "outputs": [
    {
     "name": "stdout",
     "output_type": "stream",
     "text": [
      "CNN Error: 2.72%\n"
     ]
    }
   ],
   "source": [
    "scores = model.evaluate(test_images, test_labels, verbose=0)\n",
    "print(\"CNN Error: %.2f%%\" % (100-scores[1]*100))"
   ]
  },
  {
   "cell_type": "code",
   "execution_count": 92,
   "metadata": {},
   "outputs": [
    {
     "data": {
      "image/png": "[encoded data removed]",
      "text/plain": [
       "<Figure size 432x288 with 1 Axes>"
      ]
     },
     "metadata": {},
     "output_type": "display_data"
    },
    {
     "name": "stdout",
     "output_type": "stream",
     "text": [
      "Valor predicho: 8\n"
     ]
    }
   ],
   "source": [
    "predictImage(test_images[8])"
   ]
  },
  {
   "cell_type": "markdown",
   "metadata": {},
   "source": [
    "Vemos ahora que el porcentaje de error se redujo considerablemente y las predicciones sobre imágenes no del todo definidas devuelven valores más precisos\n",
    "\n",
    "De todas formas seguimos teniendo el problema de overfitting por lo que nos limitaremos a 4 épocas y ajustaremos nuevamente el modelo"
   ]
  },
  {
   "cell_type": "code",
   "execution_count": 93,
   "metadata": {},
   "outputs": [
    {
     "name": "stdout",
     "output_type": "stream",
     "text": [
      "Train on 10000 samples, validate on 5000 samples\n",
      "Epoch 1/4\n",
      "10000/10000 [==============================] - 31s 3ms/step - loss: 0.6445 - acc: 0.7868 - val_loss: 0.2933 - val_acc: 0.9062\n",
      "Epoch 2/4\n",
      "10000/10000 [==============================] - 30s 3ms/step - loss: 0.1948 - acc: 0.9407 - val_loss: 0.1715 - val_acc: 0.9458\n",
      "Epoch 3/4\n",
      "10000/10000 [==============================] - 30s 3ms/step - loss: 0.1247 - acc: 0.9633 - val_loss: 0.1574 - val_acc: 0.9490\n",
      "Epoch 4/4\n",
      "10000/10000 [==============================] - 30s 3ms/step - loss: 0.1007 - acc: 0.9677 - val_loss: 0.2170 - val_acc: 0.9374\n"
     ]
    }
   ],
   "source": [
    "model = get_model()\n",
    "history = model.fit(\n",
    "    train_images,\n",
    "    train_labels,\n",
    "    epochs=4,\n",
    "    validation_data=(validation_images, validation_labels),\n",
    ")"
   ]
  },
  {
   "cell_type": "code",
   "execution_count": 83,
   "metadata": {},
   "outputs": [
    {
     "data": {
      "image/png": "[encoded data removed]",
      "text/plain": [
       "<Figure size 1152x1152 with 2 Axes>"
      ]
     },
     "metadata": {},
     "output_type": "display_data"
    }
   ],
   "source": [
    "draw_history(history)"
   ]
  },
  {
   "cell_type": "code",
   "execution_count": 84,
   "metadata": {},
   "outputs": [
    {
     "name": "stdout",
     "output_type": "stream",
     "text": [
      "CNN Error: 2.89%\n"
     ]
    }
   ],
   "source": [
    "scores = model.evaluate(test_images, test_labels, verbose=0)\n",
    "print(\"CNN Error: %.2f%%\" % (100-scores[1]*100))"
   ]
  },
  {
   "cell_type": "code",
   "execution_count": 85,
   "metadata": {},
   "outputs": [
    {
     "data": {
      "image/png": "[encoded data removed]",
      "text/plain": [
       "<Figure size 432x288 with 1 Axes>"
      ]
     },
     "metadata": {},
     "output_type": "display_data"
    },
    {
     "name": "stdout",
     "output_type": "stream",
     "text": [
      "Valor predicho: 5\n"
     ]
    }
   ],
   "source": [
    "predictImage(test_images[8])"
   ]
  },
  {
   "cell_type": "markdown",
   "metadata": {},
   "source": [
    "¿Qué nos resta para hacer?\n",
    "\n",
    "Tendríamos que definir un límite de precisión de predicción de nuestro modelo. No tiene sentido que termine acertando dígitos que difícilmente sean reconocibles por el hombre\n",
    "\n",
    "¿De qué manera podríamos seguir mejorandolo?"
   ]
  }
 ],
 "metadata": {
  "kernelspec": {
   "display_name": "Python 3",
   "language": "python",
   "name": "python3"
  },
  "language_info": {
   "codemirror_mode": {
    "name": "ipython",
    "version": 3
   },
   "file_extension": ".py",
   "mimetype": "text/x-python",
   "name": "python",
   "nbconvert_exporter": "python",
   "pygments_lexer": "ipython3",
   "version": "3.6.5"
  }
 },
 "nbformat": 4,
 "nbformat_minor": 2
}
